{
 "cells": [
  {
   "cell_type": "code",
   "execution_count": 1,
   "metadata": {
    "collapsed": false
   },
   "outputs": [
    {
     "name": "stdout",
     "output_type": "stream",
     "text": [
      "Populating the interactive namespace from numpy and matplotlib\n"
     ]
    }
   ],
   "source": [
    "%pylab inline"
   ]
  },
  {
   "cell_type": "code",
   "execution_count": 2,
   "metadata": {
    "collapsed": false
   },
   "outputs": [
    {
     "name": "stdout",
     "output_type": "stream",
     "text": [
      "\u001b[31m01_manual2.gif\u001b[m\u001b[m* \u001b[31m06_manual2.gif\u001b[m\u001b[m* \u001b[31m11_manual2.gif\u001b[m\u001b[m* \u001b[31m16_manual2.gif\u001b[m\u001b[m* Untitled.ipynb\r\n",
      "\u001b[31m02_manual2.gif\u001b[m\u001b[m* \u001b[31m07_manual2.gif\u001b[m\u001b[m* \u001b[31m12_manual2.gif\u001b[m\u001b[m* \u001b[31m17_manual2.gif\u001b[m\u001b[m*\r\n",
      "\u001b[31m03_manual2.gif\u001b[m\u001b[m* \u001b[31m08_manual2.gif\u001b[m\u001b[m* \u001b[31m13_manual2.gif\u001b[m\u001b[m* \u001b[31m18_manual2.gif\u001b[m\u001b[m*\r\n",
      "\u001b[31m04_manual2.gif\u001b[m\u001b[m* \u001b[31m09_manual2.gif\u001b[m\u001b[m* \u001b[31m14_manual2.gif\u001b[m\u001b[m* \u001b[31m19_manual2.gif\u001b[m\u001b[m*\r\n",
      "\u001b[31m05_manual2.gif\u001b[m\u001b[m* \u001b[31m10_manual2.gif\u001b[m\u001b[m* \u001b[31m15_manual2.gif\u001b[m\u001b[m* \u001b[31m20_manual2.gif\u001b[m\u001b[m*\r\n"
     ]
    }
   ],
   "source": [
    "ls"
   ]
  },
  {
   "cell_type": "code",
   "execution_count": 3,
   "metadata": {
    "collapsed": true
   },
   "outputs": [],
   "source": [
    "a = imread('01_manual2.gif')"
   ]
  },
  {
   "cell_type": "code",
   "execution_count": 4,
   "metadata": {
    "collapsed": false
   },
   "outputs": [
    {
     "data": {
      "text/plain": [
       "(584, 565, 4)"
      ]
     },
     "execution_count": 4,
     "metadata": {},
     "output_type": "execute_result"
    }
   ],
   "source": [
    "a.shape"
   ]
  },
  {
   "cell_type": "code",
   "execution_count": 5,
   "metadata": {
    "collapsed": false
   },
   "outputs": [
    {
     "data": {
      "text/plain": [
       "<matplotlib.image.AxesImage at 0x10fa732e8>"
      ]
     },
     "execution_count": 5,
     "metadata": {},
     "output_type": "execute_result"
    },
    {
     "data": {
      "image/png": "[encoded data removed]",
      "text/plain": [
       "<matplotlib.figure.Figure at 0x10d040390>"
      ]
     },
     "metadata": {},
     "output_type": "display_data"
    }
   ],
   "source": [
    "_, ax = subplots(1, 3, figsize=(18, 5))\n",
    "\n",
    "gray()\n",
    "ax[0].imshow(a[:, :, 0])\n",
    "ax[1].imshow(a[:, :, 1])\n",
    "ax[2].imshow(a[:, :, 2])"
   ]
  },
  {
   "cell_type": "code",
   "execution_count": 7,
   "metadata": {
    "collapsed": false
   },
   "outputs": [
    {
     "data": {
      "text/plain": [
       "<matplotlib.image.AxesImage at 0x1105274e0>"
      ]
     },
     "execution_count": 7,
     "metadata": {},
     "output_type": "execute_result"
    },
    {
     "data": {
      "image/png": "[encoded data removed]",
      "text/plain": [
       "<matplotlib.figure.Figure at 0x10faf2ac8>"
      ]
     },
     "metadata": {},
     "output_type": "display_data"
    }
   ],
   "source": [
    "imshow(a[200:210, 70:80])"
   ]
  },
  {
   "cell_type": "code",
   "execution_count": 8,
   "metadata": {
    "collapsed": false,
    "scrolled": false
   },
   "outputs": [
    {
     "data": {
      "text/plain": [
       "array([[[252, 254, 252, 255],\n",
       "        [  4,   2,   4, 255],\n",
       "        [  4,   2,   4, 255],\n",
       "        [  4,   2,   4, 255],\n",
       "        [  4,   2,   4, 255],\n",
       "        [  4,   2,   4, 255],\n",
       "        [252, 254, 252, 255],\n",
       "        [252, 254, 252, 255],\n",
       "        [252, 254, 252, 255],\n",
       "        [252, 254, 252, 255]],\n",
       "\n",
       "       [[252, 254, 252, 255],\n",
       "        [  4,   2,   4, 255],\n",
       "        [  4,   2,   4, 255],\n",
       "        [  4,   2,   4, 255],\n",
       "        [  4,   2,   4, 255],\n",
       "        [  4,   2,   4, 255],\n",
       "        [252, 254, 252, 255],\n",
       "        [252, 254, 252, 255],\n",
       "        [252, 254, 252, 255],\n",
       "        [252, 254, 252, 255]],\n",
       "\n",
       "       [[252, 254, 252, 255],\n",
       "        [  4,   2,   4, 255],\n",
       "        [  4,   2,   4, 255],\n",
       "        [  4,   2,   4, 255],\n",
       "        [  4,   2,   4, 255],\n",
       "        [  4,   2,   4, 255],\n",
       "        [252, 254, 252, 255],\n",
       "        [252, 254, 252, 255],\n",
       "        [252, 254, 252, 255],\n",
       "        [  4,   2,   4, 255]],\n",
       "\n",
       "       [[252, 254, 252, 255],\n",
       "        [  4,   2,   4, 255],\n",
       "        [  4,   2,   4, 255],\n",
       "        [  4,   2,   4, 255],\n",
       "        [  4,   2,   4, 255],\n",
       "        [  4,   2,   4, 255],\n",
       "        [252, 254, 252, 255],\n",
       "        [252, 254, 252, 255],\n",
       "        [252, 254, 252, 255],\n",
       "        [  4,   2,   4, 255]],\n",
       "\n",
       "       [[252, 254, 252, 255],\n",
       "        [  4,   2,   4, 255],\n",
       "        [  4,   2,   4, 255],\n",
       "        [  4,   2,   4, 255],\n",
       "        [  4,   2,   4, 255],\n",
       "        [  4,   2,   4, 255],\n",
       "        [252, 254, 252, 255],\n",
       "        [252, 254, 252, 255],\n",
       "        [252, 254, 252, 255],\n",
       "        [  4,   2,   4, 255]],\n",
       "\n",
       "       [[252, 254, 252, 255],\n",
       "        [  4,   2,   4, 255],\n",
       "        [  4,   2,   4, 255],\n",
       "        [  4,   2,   4, 255],\n",
       "        [  4,   2,   4, 255],\n",
       "        [  4,   2,   4, 255],\n",
       "        [252, 254, 252, 255],\n",
       "        [252, 254, 252, 255],\n",
       "        [252, 254, 252, 255],\n",
       "        [  4,   2,   4, 255]],\n",
       "\n",
       "       [[252, 254, 252, 255],\n",
       "        [  4,   2,   4, 255],\n",
       "        [  4,   2,   4, 255],\n",
       "        [  4,   2,   4, 255],\n",
       "        [  4,   2,   4, 255],\n",
       "        [252, 254, 252, 255],\n",
       "        [252, 254, 252, 255],\n",
       "        [252, 254, 252, 255],\n",
       "        [  4,   2,   4, 255],\n",
       "        [  4,   2,   4, 255]],\n",
       "\n",
       "       [[252, 254, 252, 255],\n",
       "        [  4,   2,   4, 255],\n",
       "        [  4,   2,   4, 255],\n",
       "        [  4,   2,   4, 255],\n",
       "        [  4,   2,   4, 255],\n",
       "        [252, 254, 252, 255],\n",
       "        [252, 254, 252, 255],\n",
       "        [252, 254, 252, 255],\n",
       "        [  4,   2,   4, 255],\n",
       "        [  4,   2,   4, 255]],\n",
       "\n",
       "       [[252, 254, 252, 255],\n",
       "        [252, 254, 252, 255],\n",
       "        [  4,   2,   4, 255],\n",
       "        [  4,   2,   4, 255],\n",
       "        [  4,   2,   4, 255],\n",
       "        [252, 254, 252, 255],\n",
       "        [252, 254, 252, 255],\n",
       "        [252, 254, 252, 255],\n",
       "        [  4,   2,   4, 255],\n",
       "        [  4,   2,   4, 255]],\n",
       "\n",
       "       [[252, 254, 252, 255],\n",
       "        [252, 254, 252, 255],\n",
       "        [  4,   2,   4, 255],\n",
       "        [  4,   2,   4, 255],\n",
       "        [  4,   2,   4, 255],\n",
       "        [252, 254, 252, 255],\n",
       "        [252, 254, 252, 255],\n",
       "        [252, 254, 252, 255],\n",
       "        [  4,   2,   4, 255],\n",
       "        [  4,   2,   4, 255]]], dtype=uint8)"
      ]
     },
     "execution_count": 8,
     "metadata": {},
     "output_type": "execute_result"
    }
   ],
   "source": [
    "a[200:210, 70:80]"
   ]
  },
  {
   "cell_type": "code",
   "execution_count": 10,
   "metadata": {
    "collapsed": false
   },
   "outputs": [],
   "source": [
    "b = a[200:210, 70:80, 0] > 128"
   ]
  },
  {
   "cell_type": "code",
   "execution_count": 12,
   "metadata": {
    "collapsed": false
   },
   "outputs": [
    {
     "data": {
      "text/plain": [
       "<matplotlib.image.AxesImage at 0x110707e80>"
      ]
     },
     "execution_count": 12,
     "metadata": {},
     "output_type": "execute_result"
    },
    {
     "data": {
      "image/png": "[encoded data removed]",
      "text/plain": [
       "<matplotlib.figure.Figure at 0x1105550b8>"
      ]
     },
     "metadata": {},
     "output_type": "display_data"
    }
   ],
   "source": [
    "imshow(b)"
   ]
  },
  {
   "cell_type": "code",
   "execution_count": null,
   "metadata": {
    "collapsed": true
   },
   "outputs": [],
   "source": []
  }
 ],
 "metadata": {
  "kernelspec": {
   "display_name": "Python 3",
   "language": "python",
   "name": "python3"
  },
  "language_info": {
   "codemirror_mode": {
    "name": "ipython",
    "version": 3
   },
   "file_extension": ".py",
   "mimetype": "text/x-python",
   "name": "python",
   "nbconvert_exporter": "python",
   "pygments_lexer": "ipython3",
   "version": "3.4.5"
  }
 },
 "nbformat": 4,
 "nbformat_minor": 2
}
